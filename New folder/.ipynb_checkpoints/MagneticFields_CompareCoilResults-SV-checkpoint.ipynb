{
 "cells": [
  {
   "cell_type": "markdown",
   "metadata": {},
   "source": [
    "# Comparing experimental and theoretical B field in Helmholtz coil(s)."
   ]
  },
  {
   "cell_type": "markdown",
   "metadata": {},
   "source": [
    "This notebook is designed to lead you through the process of plotting your theoretical and experimental results for the Helmholtz coils, saving the plots to file so you can print it out, stick it in your lab book and discuss how they compare.\n",
    "\n",
    "Step 1. Import numpy and pyplot from matplotlib. Also call the command that ensures matplotlib plots happen inline, within the current window."
   ]
  },
  {
   "cell_type": "code",
   "execution_count": 1,
   "metadata": {
    "collapsed": true
   },
   "outputs": [],
   "source": [
    "import numpy as np\n",
    "import matplotlib.pyplot as plt\n",
    "import pandas as pd\n",
    "%matplotlib inline"
   ]
  },
  {
   "cell_type": "code",
   "execution_count": 3,
   "metadata": {},
   "outputs": [
    {
     "data": {
      "text/html": [
       "<div>\n",
       "<style>\n",
       "    .dataframe thead tr:only-child th {\n",
       "        text-align: right;\n",
       "    }\n",
       "\n",
       "    .dataframe thead th {\n",
       "        text-align: left;\n",
       "    }\n",
       "\n",
       "    .dataframe tbody tr th {\n",
       "        vertical-align: top;\n",
       "    }\n",
       "</style>\n",
       "<table border=\"1\" class=\"dataframe\">\n",
       "  <thead>\n",
       "    <tr style=\"text-align: right;\">\n",
       "      <th></th>\n",
       "      <th>Z Position (m)</th>\n",
       "      <th>Uncertainty in z position (m)</th>\n",
       "      <th>Magnetic Field (mT)</th>\n",
       "      <th>Uncertainty in Magnetic Field (mT)</th>\n",
       "      <th>Unnamed: 4</th>\n",
       "      <th>Z Position (m).1</th>\n",
       "      <th>Uncertainty in z position (m).1</th>\n",
       "      <th>Magnetic Field (mT).1</th>\n",
       "      <th>Uncertainty in Magnetic Field (mT).1</th>\n",
       "    </tr>\n",
       "  </thead>\n",
       "  <tbody>\n",
       "    <tr>\n",
       "      <th>0</th>\n",
       "      <td>-0.30</td>\n",
       "      <td>0.001</td>\n",
       "      <td>-0.81</td>\n",
       "      <td>0.02</td>\n",
       "      <td>NaN</td>\n",
       "      <td>0.00</td>\n",
       "      <td>0.001</td>\n",
       "      <td>-0.46</td>\n",
       "      <td>0.02</td>\n",
       "    </tr>\n",
       "    <tr>\n",
       "      <th>1</th>\n",
       "      <td>-0.25</td>\n",
       "      <td>0.001</td>\n",
       "      <td>-1.17</td>\n",
       "      <td>0.02</td>\n",
       "      <td>NaN</td>\n",
       "      <td>0.05</td>\n",
       "      <td>0.001</td>\n",
       "      <td>-0.64</td>\n",
       "      <td>0.02</td>\n",
       "    </tr>\n",
       "    <tr>\n",
       "      <th>2</th>\n",
       "      <td>-0.20</td>\n",
       "      <td>0.001</td>\n",
       "      <td>-1.80</td>\n",
       "      <td>0.02</td>\n",
       "      <td>NaN</td>\n",
       "      <td>0.10</td>\n",
       "      <td>0.001</td>\n",
       "      <td>-0.93</td>\n",
       "      <td>0.02</td>\n",
       "    </tr>\n",
       "    <tr>\n",
       "      <th>3</th>\n",
       "      <td>-0.15</td>\n",
       "      <td>0.001</td>\n",
       "      <td>-2.77</td>\n",
       "      <td>0.02</td>\n",
       "      <td>NaN</td>\n",
       "      <td>0.15</td>\n",
       "      <td>0.001</td>\n",
       "      <td>-1.51</td>\n",
       "      <td>0.02</td>\n",
       "    </tr>\n",
       "    <tr>\n",
       "      <th>4</th>\n",
       "      <td>-0.10</td>\n",
       "      <td>0.001</td>\n",
       "      <td>-4.44</td>\n",
       "      <td>0.02</td>\n",
       "      <td>NaN</td>\n",
       "      <td>0.20</td>\n",
       "      <td>0.001</td>\n",
       "      <td>-2.30</td>\n",
       "      <td>0.02</td>\n",
       "    </tr>\n",
       "    <tr>\n",
       "      <th>5</th>\n",
       "      <td>-0.05</td>\n",
       "      <td>0.001</td>\n",
       "      <td>-6.23</td>\n",
       "      <td>0.02</td>\n",
       "      <td>NaN</td>\n",
       "      <td>0.25</td>\n",
       "      <td>0.001</td>\n",
       "      <td>-3.17</td>\n",
       "      <td>0.02</td>\n",
       "    </tr>\n",
       "    <tr>\n",
       "      <th>6</th>\n",
       "      <td>0.00</td>\n",
       "      <td>0.001</td>\n",
       "      <td>-7.09</td>\n",
       "      <td>0.02</td>\n",
       "      <td>NaN</td>\n",
       "      <td>0.30</td>\n",
       "      <td>0.001</td>\n",
       "      <td>-4.05</td>\n",
       "      <td>0.02</td>\n",
       "    </tr>\n",
       "    <tr>\n",
       "      <th>7</th>\n",
       "      <td>0.05</td>\n",
       "      <td>0.001</td>\n",
       "      <td>-6.08</td>\n",
       "      <td>0.02</td>\n",
       "      <td>NaN</td>\n",
       "      <td>0.35</td>\n",
       "      <td>0.001</td>\n",
       "      <td>-4.33</td>\n",
       "      <td>0.02</td>\n",
       "    </tr>\n",
       "    <tr>\n",
       "      <th>8</th>\n",
       "      <td>0.10</td>\n",
       "      <td>0.001</td>\n",
       "      <td>-4.24</td>\n",
       "      <td>0.02</td>\n",
       "      <td>NaN</td>\n",
       "      <td>0.40</td>\n",
       "      <td>0.001</td>\n",
       "      <td>-4.38</td>\n",
       "      <td>0.02</td>\n",
       "    </tr>\n",
       "    <tr>\n",
       "      <th>9</th>\n",
       "      <td>0.15</td>\n",
       "      <td>0.001</td>\n",
       "      <td>-2.78</td>\n",
       "      <td>0.02</td>\n",
       "      <td>NaN</td>\n",
       "      <td>0.45</td>\n",
       "      <td>0.001</td>\n",
       "      <td>-4.12</td>\n",
       "      <td>0.02</td>\n",
       "    </tr>\n",
       "    <tr>\n",
       "      <th>10</th>\n",
       "      <td>0.20</td>\n",
       "      <td>0.001</td>\n",
       "      <td>-1.74</td>\n",
       "      <td>0.02</td>\n",
       "      <td>NaN</td>\n",
       "      <td>0.50</td>\n",
       "      <td>0.001</td>\n",
       "      <td>-3.44</td>\n",
       "      <td>0.02</td>\n",
       "    </tr>\n",
       "    <tr>\n",
       "      <th>11</th>\n",
       "      <td>0.25</td>\n",
       "      <td>0.001</td>\n",
       "      <td>-1.18</td>\n",
       "      <td>0.02</td>\n",
       "      <td>NaN</td>\n",
       "      <td>0.55</td>\n",
       "      <td>0.001</td>\n",
       "      <td>-2.47</td>\n",
       "      <td>0.02</td>\n",
       "    </tr>\n",
       "    <tr>\n",
       "      <th>12</th>\n",
       "      <td>0.30</td>\n",
       "      <td>0.001</td>\n",
       "      <td>-0.74</td>\n",
       "      <td>0.02</td>\n",
       "      <td>NaN</td>\n",
       "      <td>0.60</td>\n",
       "      <td>0.001</td>\n",
       "      <td>-1.62</td>\n",
       "      <td>0.02</td>\n",
       "    </tr>\n",
       "    <tr>\n",
       "      <th>13</th>\n",
       "      <td>NaN</td>\n",
       "      <td>NaN</td>\n",
       "      <td>NaN</td>\n",
       "      <td>NaN</td>\n",
       "      <td>NaN</td>\n",
       "      <td>0.65</td>\n",
       "      <td>0.001</td>\n",
       "      <td>-1.10</td>\n",
       "      <td>0.02</td>\n",
       "    </tr>\n",
       "    <tr>\n",
       "      <th>14</th>\n",
       "      <td>NaN</td>\n",
       "      <td>NaN</td>\n",
       "      <td>NaN</td>\n",
       "      <td>NaN</td>\n",
       "      <td>NaN</td>\n",
       "      <td>0.70</td>\n",
       "      <td>0.001</td>\n",
       "      <td>-0.71</td>\n",
       "      <td>0.02</td>\n",
       "    </tr>\n",
       "    <tr>\n",
       "      <th>15</th>\n",
       "      <td>NaN</td>\n",
       "      <td>NaN</td>\n",
       "      <td>NaN</td>\n",
       "      <td>NaN</td>\n",
       "      <td>NaN</td>\n",
       "      <td>0.75</td>\n",
       "      <td>0.001</td>\n",
       "      <td>-0.52</td>\n",
       "      <td>0.02</td>\n",
       "    </tr>\n",
       "  </tbody>\n",
       "</table>\n",
       "</div>"
      ],
      "text/plain": [
       "    Z Position (m)  Uncertainty in z position (m)  Magnetic Field (mT)  \\\n",
       "0            -0.30                          0.001                -0.81   \n",
       "1            -0.25                          0.001                -1.17   \n",
       "2            -0.20                          0.001                -1.80   \n",
       "3            -0.15                          0.001                -2.77   \n",
       "4            -0.10                          0.001                -4.44   \n",
       "5            -0.05                          0.001                -6.23   \n",
       "6             0.00                          0.001                -7.09   \n",
       "7             0.05                          0.001                -6.08   \n",
       "8             0.10                          0.001                -4.24   \n",
       "9             0.15                          0.001                -2.78   \n",
       "10            0.20                          0.001                -1.74   \n",
       "11            0.25                          0.001                -1.18   \n",
       "12            0.30                          0.001                -0.74   \n",
       "13             NaN                            NaN                  NaN   \n",
       "14             NaN                            NaN                  NaN   \n",
       "15             NaN                            NaN                  NaN   \n",
       "\n",
       "    Uncertainty in Magnetic Field (mT)  Unnamed: 4  Z Position (m).1  \\\n",
       "0                                 0.02         NaN              0.00   \n",
       "1                                 0.02         NaN              0.05   \n",
       "2                                 0.02         NaN              0.10   \n",
       "3                                 0.02         NaN              0.15   \n",
       "4                                 0.02         NaN              0.20   \n",
       "5                                 0.02         NaN              0.25   \n",
       "6                                 0.02         NaN              0.30   \n",
       "7                                 0.02         NaN              0.35   \n",
       "8                                 0.02         NaN              0.40   \n",
       "9                                 0.02         NaN              0.45   \n",
       "10                                0.02         NaN              0.50   \n",
       "11                                0.02         NaN              0.55   \n",
       "12                                0.02         NaN              0.60   \n",
       "13                                 NaN         NaN              0.65   \n",
       "14                                 NaN         NaN              0.70   \n",
       "15                                 NaN         NaN              0.75   \n",
       "\n",
       "    Uncertainty in z position (m).1  Magnetic Field (mT).1  \\\n",
       "0                             0.001                  -0.46   \n",
       "1                             0.001                  -0.64   \n",
       "2                             0.001                  -0.93   \n",
       "3                             0.001                  -1.51   \n",
       "4                             0.001                  -2.30   \n",
       "5                             0.001                  -3.17   \n",
       "6                             0.001                  -4.05   \n",
       "7                             0.001                  -4.33   \n",
       "8                             0.001                  -4.38   \n",
       "9                             0.001                  -4.12   \n",
       "10                            0.001                  -3.44   \n",
       "11                            0.001                  -2.47   \n",
       "12                            0.001                  -1.62   \n",
       "13                            0.001                  -1.10   \n",
       "14                            0.001                  -0.71   \n",
       "15                            0.001                  -0.52   \n",
       "\n",
       "    Uncertainty in Magnetic Field (mT).1  \n",
       "0                                   0.02  \n",
       "1                                   0.02  \n",
       "2                                   0.02  \n",
       "3                                   0.02  \n",
       "4                                   0.02  \n",
       "5                                   0.02  \n",
       "6                                   0.02  \n",
       "7                                   0.02  \n",
       "8                                   0.02  \n",
       "9                                   0.02  \n",
       "10                                  0.02  \n",
       "11                                  0.02  \n",
       "12                                  0.02  \n",
       "13                                  0.02  \n",
       "14                                  0.02  \n",
       "15                                  0.02  "
      ]
     },
     "execution_count": 3,
     "metadata": {},
     "output_type": "execute_result"
    }
   ],
   "source": [
    "Exp_data=pd.read_csv('SomethingToDoWithMagnets2.csv')\n",
    "Exp_data"
   ]
  },
  {
   "cell_type": "markdown",
   "metadata": {},
   "source": [
    "## Comparing the B field along the z axis of a single Helmholtz coil.\n"
   ]
  },
  {
   "cell_type": "markdown",
   "metadata": {},
   "source": [
    "Step 2. Load your theoretical B field values along the z axis of a single HH coil by specifying the correct \".csv\" file. This file should contain two columns of data corresponding to the z position (mm) and the B field strength (mT)."
   ]
  },
  {
   "cell_type": "code",
   "execution_count": 4,
   "metadata": {
    "collapsed": true
   },
   "outputs": [],
   "source": [
    "#enter the correct \".csv\" file name. (Refer to MagneticFields_Theory-SV.ipynb notebook you just completed if unsure.)\n",
    "theoryData=np.loadtxt(\"Helmholtz_coil_single.csv\",delimiter=',')\n",
    "#Extracting the two variables z position and B field\n",
    "theoryZ=theoryData[:,0]\n",
    "theoryB=theoryData[:,1]"
   ]
  },
  {
   "cell_type": "markdown",
   "metadata": {},
   "source": [
    "Step 3. Enter your experimental measurements of B field along the z axis of a single HH coil. You'll need to complete four 1-d arrays, for the z position, uncertainty in z position, the magnetic field strength and uncertainty in magnetic field strength. Make sure each array as the same number of entries as the others."
   ]
  },
  {
   "cell_type": "code",
   "execution_count": 17,
   "metadata": {
    "collapsed": true
   },
   "outputs": [],
   "source": [
    "#enter your z position measurements in mm\n",
    "zPos=np.array(Exp_data[\"Z Position (m)\"])*1000\n",
    "#enter your uncertainty in z position measurements in mm\n",
    "delta_zPos=np.array(Exp_data[\"Uncertainty in z position (m)\"])*1000\n",
    "#enter your B field strength in mT\n",
    "Bfield=*np.array(Exp_data[\"Magnetic Field (mT)\"])/10\n",
    "#enter your uncertainty in B field strength in mT\n",
    "delta_Bfield=*np.array(Exp_data[\"Uncertainty in Magnetic Field (mT)\"])/10"
   ]
  },
  {
   "cell_type": "markdown",
   "metadata": {},
   "source": [
    "Step 4. Now it is all about plotting the experimental and theoretical results on the same axes, adding labels, title and legend and saving the figure as a pdf file you can later print."
   ]
  },
  {
   "cell_type": "code",
   "execution_count": 19,
   "metadata": {},
   "outputs": [
    {
     "data": {
      "image/png": "[encoded data removed]",
      "text/plain": [
       "<matplotlib.figure.Figure at 0x18fa4db7550>"
      ]
     },
     "metadata": {},
     "output_type": "display_data"
    }
   ],
   "source": [
    "#First plot the experimental data - B field strength as a function of z position, and use error bars to show uncertainty.\n",
    "#add a label to the plotted experimental data too.\n",
    "plt.errorbar(zPos, Bfield, yerr=delta_Bfield, xerr=delta_zPos, ecolor='g', label = \"Experimental\")\n",
    "#Plot theoretical predictions - the second column of theoryData holds the B field strength, the first column holds the z position values\n",
    "#add a label to the plotted theoretical data too.\n",
    "plt.plot(theoryZ,theoryB,':',c='r',label='theory')\n",
    "#Label axes\n",
    "\n",
    "\n",
    "#Add title to plot\n",
    "\n",
    "#Add legend\n",
    "plt.legend(loc='lower right', frameon=True)\n",
    "#Adjust the output filename to a descriptive value\n",
    "plt.savefig(\"myplot.pdf\",dpi=300,orientation=\"landscape\")"
   ]
  },
  {
   "cell_type": "markdown",
   "metadata": {},
   "source": [
    "## Comparing the B field along the z axis of a pair of Helmholtz coils. "
   ]
  },
  {
   "cell_type": "markdown",
   "metadata": {},
   "source": [
    "Step 5. Load in your theoretical data for the pair of HH coils. The \".csv\" file should contain two columns of data corresponding to the z position and the B field strength."
   ]
  },
  {
   "cell_type": "code",
   "execution_count": null,
   "metadata": {
    "collapsed": true
   },
   "outputs": [],
   "source": [
    "#enter the correct \".csv\" file name. You may need to refer back to the notebook MagneticFields_Theory-SV.ipynb to check the filename you used.\n",
    "theoryData=np.loadtxt(\"myData.csv\",delimiter=',')\n",
    "#Extracting the two variables; z position and B field.\n",
    "theoryZ_2HH=theoryData[:,0]\n",
    "theoryB_2HH=theoryData[:,1]"
   ]
  },
  {
   "cell_type": "markdown",
   "metadata": {},
   "source": [
    "Step 6. Enter your experimental data for the pair of HH coils to make four 1-d arrays;one for the z position, uncertainty in z position, B field strength and the uncertainty in B field strength."
   ]
  },
  {
   "cell_type": "code",
   "execution_count": null,
   "metadata": {
    "collapsed": true
   },
   "outputs": [],
   "source": [
    "#enter your z position measurements in mm for your 2HH coil arrangement\n",
    "zPos_2HH=np.array([])\n",
    "#enter your uncertainty in z position measurements in mm\n",
    "delta_zPos_2HH=np.array([])\n",
    "#enter your B field strength in mT\n",
    "Bfield_2HH=np.array([])\n",
    "#enter your uncertainty in B field strength in mT\n",
    "delta_Bfield_2HH=np.array([])"
   ]
  },
  {
   "cell_type": "markdown",
   "metadata": {},
   "source": [
    "Step 7. Now plot the experimental and theoretical results on the same axes, adding labels, title and legend and saving the figure as a pdf file you can later print."
   ]
  },
  {
   "cell_type": "code",
   "execution_count": null,
   "metadata": {},
   "outputs": [],
   "source": [
    "#First plot the experimental data - B field strength as a function of z position, and use error bars to show uncertainty.\n",
    "#add a label to the plotted experimental data too.\n",
    "plt.errorbar()\n",
    "#Plot theoretical predictions - the second column of theoryData holds the B field strength, the first column holds the z position values\n",
    "#add a label to the plotted theoretical data too.\n",
    "plt.plot()\n",
    "#Label axes\n",
    "\n",
    "\n",
    "#Add title to plot\n",
    "\n",
    "#Add legend\n",
    "\n",
    "#Adjust the output filename to a descriptive value\n",
    "plt.savefig(\"myplot.pdf\",dpi=300,orientation=\"landscape\")"
   ]
  },
  {
   "cell_type": "markdown",
   "metadata": {},
   "source": [
    "## Optional: Plotting B field variation across the diameter of a single Helmholtz coil. "
   ]
  },
  {
   "cell_type": "markdown",
   "metadata": {},
   "source": [
    "Step 8. While there were no theoretical predictions of what the B field strength would be across the plane inside a single HH coil, you have made measurements. Enter your experimental measurements to make four 1-d arrays of data; one corresponding to the\n",
    "radial position from centre of coil, uncertainty in position, B field strength and the uncertainty in B field strength.\n",
    "\n",
    "Then plot it, using error bars to show magnitude of uncertainty."
   ]
  },
  {
   "cell_type": "code",
   "execution_count": null,
   "metadata": {},
   "outputs": [],
   "source": [
    "#Enter radial position measurements in mm.\n",
    "rPos=np.array([])\n",
    "#Enter uncertainty in radial position measurements in mm.\n",
    "delta_rPos=np.array([])\n",
    "#Enter B field strength measurements in mT\n",
    "rBfield=np.array([])\n",
    "#Enter uncertainty in B field strength measurements in mT\n",
    "delta_rBfield=np.array([])\n",
    "#Plot radial B field strength as a function of radial position, and use error bars to show magnitude of uncertainty.\n",
    "plt.errorbar(\n",
    "#add axes labels\n",
    "\n",
    "    \n",
    "#add title\n",
    "    \n",
    "#Enter the radius of the HH coil in mm.\n",
    "R_coil=\n",
    "#Now adding a line marking the actual radius of the HH coil\n",
    "Bcoord=np.array([rBfield.min(),rBfield.max()])\n",
    "Rcoord=np.array([R_coil,R_coil])\n",
    "plt.plot(Rcoord,Bcoord,':',c=(0.5,0.5,0.5))\n",
    "plt.text(R_coil,Bcoord.min(),\"$R_{coil}$\",fontsize='large')\n",
    "#Enter an appropriate pdf file name to save this figure as    \n",
    "plt.savefig(\"myplot.pdf\",dpi=300,orientation=\"landscape\")"
   ]
  }
 ],
 "metadata": {
  "kernelspec": {
   "display_name": "Python 3",
   "language": "python",
   "name": "python3"
  },
  "language_info": {
   "codemirror_mode": {
    "name": "ipython",
    "version": 3
   },
   "file_extension": ".py",
   "mimetype": "text/x-python",
   "name": "python",
   "nbconvert_exporter": "python",
   "pygments_lexer": "ipython3",
   "version": "3.6.3"
  }
 },
 "nbformat": 4,
 "nbformat_minor": 2
}
