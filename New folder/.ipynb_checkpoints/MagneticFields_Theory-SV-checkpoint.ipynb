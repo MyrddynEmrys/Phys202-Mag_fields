{
 "cells": [
  {
   "cell_type": "markdown",
   "metadata": {},
   "source": [
    "# Theoretical model of magnetic field inside a long solenoid and Helmholtz coil(s)"
   ]
  },
  {
   "cell_type": "markdown",
   "metadata": {},
   "source": [
    "Step 1. Import numpy and pyplot from matplotlib. Also call the command that ensures matplotlib plots happen inline, within the current window."
   ]
  },
  {
   "cell_type": "code",
   "execution_count": 1,
   "metadata": {
    "collapsed": true
   },
   "outputs": [],
   "source": [
    "import numpy as np\n",
    "import matplotlib.pyplot as plt\n",
    "%matplotlib inline"
   ]
  },
  {
   "cell_type": "markdown",
   "metadata": {},
   "source": [
    "## Long solenoid"
   ]
  },
  {
   "cell_type": "markdown",
   "metadata": {},
   "source": [
    "Modelling a long solenoid. Inside a long solenoid, at points far from the end, the field is parallel to the axis and has magnitude:\n",
    "\n",
    "$\\begin{equation}\n",
    "B=\\mu_0nI\\\\\n",
    "\\end{equation}$\n",
    "\n",
    "where $\\mu_0=4\\pi\\times10^{-7}$ Tm/A, the permeability of free space and $n$ is the number of turns per unit length of the coil. The SI units of magnetic field are Tesla (T).\n",
    "\n",
    "Step 2. Calculate the $B$ field expected through the solenoid you will be experimenting with today, when passing a current of 0.5A through it. Enter an appropriate \".csv\" filename to save the result."
   ]
  },
  {
   "cell_type": "code",
   "execution_count": 2,
   "metadata": {
    "collapsed": true
   },
   "outputs": [],
   "source": [
    "#complete the following code\n",
    "mu_0= 4*np.pi*10**(-7)\n",
    "#Total number of turns in the solenoid\n",
    "N= 1343\n",
    "#Total length of the solenoid in metres\n",
    "L= 0.83\n",
    "#calculating number of turns per length\n",
    "n=N/L\n",
    "#Enter current in solenoid \n",
    "I_s= 0.5\n",
    "#Calculating B using the equation above\n",
    "B=mu_0*n*I_s\n",
    "#Save the result in milliTelsa to .csv file\n",
    "outputData=np.array([B*1000])\n",
    "#Change the output filename to be more appropriate\n",
    "np.savetxt(\"Solinoid.csv\", outputData,delimiter=',')"
   ]
  },
  {
   "cell_type": "markdown",
   "metadata": {},
   "source": [
    "Near the ends of a long solenoid, the field is parallel to the solenoid's central '$z$' axis. It's strength depends on the position vector $(R, z)$ according to;\n",
    "\n",
    "$\\begin{equation}\n",
    "B(z)=\\frac{\\mu_0IN}{2}(1-\\frac{z}{\\sqrt{R^2+z^2}})\n",
    "\\end{equation},$\n",
    "\n",
    "where $R$ is the radius of the solenoid and $z$ is the position along the solenoid axis measured from the end of the solenoid with positive $z$ values outside the solenoid. This formula is based on the assumption that the other end of the solenoid is far enough away to be ignored.\n",
    "\n",
    "Step 3. Calculate the field strength at the '$z$' axis, at at least 50 points in the range $-0.3m\\leq z\\leq0.3m$ using the above equation.\n",
    " "
   ]
  },
  {
   "cell_type": "code",
   "execution_count": 3,
   "metadata": {
    "collapsed": true
   },
   "outputs": [],
   "source": [
    "#Complete to sample at least 50 values in the range [-0.3,0.3]m.\n",
    "z=np.linspace(-0.3,0.3,50)\n",
    "#radius of solenoid in metres\n",
    "R=0.045\n",
    "#Complete to calculate B(z)\n",
    "B_z=mu_0*I_s*N/2.0*(1.-z/(R**2+z**2)**0.5)"
   ]
  },
  {
   "cell_type": "markdown",
   "metadata": {},
   "source": [
    "Step 4. Plot your theoretically magnetic field strengths as a function of $z$ to give you an idea of the kind of measurements you'll expect to get when investigating the long solenoid experimentally."
   ]
  },
  {
   "cell_type": "code",
   "execution_count": 4,
   "metadata": {},
   "outputs": [
    {
     "data": {
      "text/plain": [
       "Text(0.5,0.98,'Magnetic Field as a Function of Position for a Solinoid')"
      ]
     },
     "execution_count": 4,
     "metadata": {},
     "output_type": "execute_result"
    },
    {
     "data": {
      "image/png": "[encoded data removed]",
      "text/plain": [
       "<matplotlib.figure.Figure at 0x22884a98eb8>"
      ]
     },
     "metadata": {},
     "output_type": "display_data"
    }
   ],
   "source": [
    "#Plotting B field in milliTelsa so times by 1000\n",
    "plt.plot(z,B_z*1000) \n",
    "#add axis labels\n",
    "plt.xlabel('Distance from Solinoid end (m)')\n",
    "plt.ylabel('Magnetic field at position')\n",
    "#add title\n",
    "plt.suptitle('Magnetic Field as a Function of Position for a Solinoid')"
   ]
  },
  {
   "cell_type": "markdown",
   "metadata": {},
   "source": [
    "Step 5. Now save your theoretical magnetic field values to a file so that you can later plot them along with your experimental results for clear comparison."
   ]
  },
  {
   "cell_type": "code",
   "execution_count": 5,
   "metadata": {
    "collapsed": true
   },
   "outputs": [],
   "source": [
    "#We'll save the z position data in mm and the B field strength in mT\n",
    "outputData=np.array([z*1000, B_z*1000]).T\n",
    "#enter an appropriate filename for output data\n",
    "np.savetxt(\"Solinoid_2.csv\",outputData,delimiter=',')"
   ]
  },
  {
   "cell_type": "markdown",
   "metadata": {},
   "source": [
    "## Helmholtz coils "
   ]
  },
  {
   "cell_type": "markdown",
   "metadata": {},
   "source": [
    "In some experiments it is necessary to have a large volume of constant field. This is achieved using a pair of \"Helmholtz\" coils where two coaxial coils, usually of large radius, are separated by a distance equal to their radius. \n",
    "\n",
    "First we'll consider modelling a single Helmholtz coil. The situation is similar to that near the end of a solenoid. It's fairly easy to calculate the magnetic field on the axis, but not so easy for points off the axis. The field on the axis is parallel to the axis and has magnitude:\n",
    "\n",
    "$\\begin{equation}\n",
    "B(z)=\\frac{\\mu_0IN}{2}\\frac{R^2}{(R^2+z^2)^{3/2}},\n",
    "\\end{equation}$\n",
    "where $R$ is the radius of the coil and $z$ is the distance measured only the axis from the plane of the loop.\n",
    "\n",
    "Step 6. Suppose you have one Helmholtz coil centred at $z=0$ and you pass 1A current through it. Calculate the strength of the magnetic field along the $z$-axis at at least 100 points in the range $-0.3m\\leq z\\leq 0.3m$ using the above equation.\n"
   ]
  },
  {
   "cell_type": "code",
   "execution_count": 6,
   "metadata": {
    "collapsed": true
   },
   "outputs": [],
   "source": [
    "#complete the linspace command to generate z values in the stated range\n",
    "z_coil=np.linspace(-0.3,0.3,100)\n",
    "#Enter number of turns in the single Helmholtz coil used in the experiment.\n",
    "N_coil=205\n",
    "#Enter the current through one Helmholtz coil.\n",
    "I_coil=1\n",
    "#Enter the radius of the Helmholtz coil provided in the experiment\n",
    "R_coil=0.16\n",
    "#Complete using the above equation\n",
    "B_coil=mu_0*I_coil*N_coil/2.0*(((R_coil**2)/(R_coil**2+z_coil**2))**(3/2))"
   ]
  },
  {
   "cell_type": "markdown",
   "metadata": {
    "collapsed": true
   },
   "source": [
    "Step 7. Plot your theoretically magnetic field strength for the single Helmholtz coil as a function of $z$ to give you an idea of the kind of measurements you'll expect in the experiment."
   ]
  },
  {
   "cell_type": "code",
   "execution_count": 7,
   "metadata": {},
   "outputs": [
    {
     "data": {
      "text/plain": [
       "Text(0.5,0.98,'Magnetic Field as a Function of Position for a single Helmholtz coil')"
      ]
     },
     "execution_count": 7,
     "metadata": {},
     "output_type": "execute_result"
    },
    {
     "data": {
      "image/png": "[encoded data removed]",
      "text/plain": [
       "<matplotlib.figure.Figure at 0x22884d91f60>"
      ]
     },
     "metadata": {},
     "output_type": "display_data"
    }
   ],
   "source": [
    "#plotting B field in milliTesla so times by 1000\n",
    "plt.plot(z_coil,B_coil*1000) \n",
    "#add axis labels\n",
    "plt.xlabel('Distance from Helmholtz coil center (m)')\n",
    "plt.ylabel('Magnetic field at position (mT)')\n",
    "#add title\n",
    "plt.suptitle('Magnetic Field as a Function of Position for a single Helmholtz coil')"
   ]
  },
  {
   "cell_type": "markdown",
   "metadata": {
    "collapsed": true
   },
   "source": [
    "Step 8. Now save your theoretical magnetic field values for the single Helmholtz coil to a file so that you can later plot them along with your experimental results for clear comparison."
   ]
  },
  {
   "cell_type": "code",
   "execution_count": 8,
   "metadata": {
    "collapsed": true
   },
   "outputs": [],
   "source": [
    "#We'll save the z position data in mm and the B field strength in mT.\n",
    "outputData=np.array([z_coil*1000, B_coil*1000]).T\n",
    "#Enter an appropriate output .csv file name\n",
    "np.savetxt(\"Helmholtz_coil_single.csv\",outputData,delimiter=',')"
   ]
  },
  {
   "cell_type": "markdown",
   "metadata": {},
   "source": [
    "In this experiment you will also work with two Helmholtz coils connected in series, and pass 0.5A current through both of the coils. In this situation, each coil will contribute one term to the total magnetic field strength along the $z$-axis at a given position along the $z$-axis.\n",
    "\n",
    "If the separation between the centres of the two Helmholtz coils is $d$, we can redefine the zero of our $z$-axis to be halfway between the two Helmholtz coils. Then one coil is positioned at $z=+d/2$ and the other is positioned at $z=-d/2$.\n",
    "\n",
    "Step 9. Measure the distance between the centres of your two Helmholtz coils and calculate the total strength of the magnetic field due to one coil centred at $z=d/2$ and one coil centred at $z=-d/2$, for the range $(-0.3-d/2)\\leq z\\leq (0.3+d/2)$ by completing the following cell."
   ]
  },
  {
   "cell_type": "code",
   "execution_count": 9,
   "metadata": {
    "collapsed": true
   },
   "outputs": [],
   "source": [
    "#Distance in metres separating centres of two Helmholtz coils\n",
    "d_twoCoils=0.155\n",
    "#Current passing through coils\n",
    "I_twoCoils=0.5\n",
    "#sample 101 values from the range -0.3-d_coils/2 to +0.3+d_coils/2\n",
    "z_twoCoils=np.linspace(-0.3-(d_twoCoils/2),0.3+(d_twoCoils/2),101)\n",
    "\n",
    "#Complete formula, first term for the coil located at z=-d_coils/2 \n",
    "\n",
    "# B_1=mu_0*I_twoCoils*d_twoCoils/2.0*(((R_coil**2)/(R_coil**2+(z_twoCoils/2)**2))**(3/2))\n",
    "\n",
    "B_1 = (mu_0*I_twoCoils*N_coil/2.0) * (((R_coil**2)/(R_coil**2+(z_twoCoils+d_twoCoils/2)**2))**(3/2))\n",
    "\n",
    "#and the second term for the coil at z=d_coil/2 \n",
    "\n",
    "\n",
    "B_2 = (mu_0*I_twoCoils*N_coil/2.0) * (((R_coil**2)/(R_coil**2+(z_twoCoils-d_twoCoils/2)**2))**(3/2))\n",
    "\n",
    "#Then add the two terms\n",
    "\n",
    "B_twoCoils=B_1+B_2"
   ]
  },
  {
   "cell_type": "markdown",
   "metadata": {},
   "source": [
    "Step 10. Plot your total magnetic field strength due to the two coils as a function of $z$ to give you an idea of the kind of measurements you'll expect to get when investigating the long solenoid experimentally."
   ]
  },
  {
   "cell_type": "code",
   "execution_count": 10,
   "metadata": {},
   "outputs": [
    {
     "data": {
      "text/plain": [
       "Text(0.5,0.98,'Magnetic Field as a Function of Position for a two Helmholtz coils')"
      ]
     },
     "execution_count": 10,
     "metadata": {},
     "output_type": "execute_result"
    },
    {
     "data": {
      "image/png": "[encoded data removed]",
      "text/plain": [
       "<matplotlib.figure.Figure at 0x22884ad3630>"
      ]
     },
     "metadata": {},
     "output_type": "display_data"
    }
   ],
   "source": [
    "#plotting B field in milliTelsa as a function of z_twoCoils\n",
    "plt.plot(z_twoCoils,B_twoCoils*1000)\n",
    "#add x axis label\n",
    "plt.xlabel('Distance from Helmholtz coil center (m)')\n",
    "\n",
    "#add y axis label\n",
    "plt.ylabel('Magnetic field at position (mT)')\n",
    "#add title\n",
    "plt.suptitle('Magnetic Field as a Function of Position for a two Helmholtz coils')"
   ]
  },
  {
   "cell_type": "markdown",
   "metadata": {},
   "source": [
    "Step 11. Now save your theoretical magnetic field values to a file so that you can later plot them along with your experimental results for clear comparison."
   ]
  },
  {
   "cell_type": "code",
   "execution_count": 11,
   "metadata": {
    "collapsed": true
   },
   "outputs": [],
   "source": [
    "#We'll save the z position data in mm and the B field strength in mT\n",
    "outputData=np.array([z_twoCoils*1000, B_twoCoils*1000]).T\n",
    "#enter an appropriate \".csv\" filename for these results\n",
    "np.savetxt(\"Two Coils.csv\",outputData,delimiter=',')"
   ]
  },
  {
   "cell_type": "code",
   "execution_count": null,
   "metadata": {
    "collapsed": true
   },
   "outputs": [],
   "source": []
  }
 ],
 "metadata": {
  "kernelspec": {
   "display_name": "Python 3",
   "language": "python",
   "name": "python3"
  },
  "language_info": {
   "codemirror_mode": {
    "name": "ipython",
    "version": 3
   },
   "file_extension": ".py",
   "mimetype": "text/x-python",
   "name": "python",
   "nbconvert_exporter": "python",
   "pygments_lexer": "ipython3",
   "version": "3.6.3"
  }
 },
 "nbformat": 4,
 "nbformat_minor": 2
}
