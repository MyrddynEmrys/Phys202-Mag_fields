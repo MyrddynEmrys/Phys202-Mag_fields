{
 "cells": [
  {
   "cell_type": "markdown",
   "metadata": {},
   "source": [
    "# Comparing experimental and theoretical B field in a solenoid."
   ]
  },
  {
   "cell_type": "markdown",
   "metadata": {},
   "source": [
    "This notebook is designed to lead you through the process of plotting your theoretical and experimental results for the solenoid, saving the plot to file so you can print it out, stick it in your lab book and discuss how they compare.\n",
    "\n",
    "Step 1. Import numpy and pyplot from matplotlib. Also call the command that ensures matplotlib plots happen inline, within the current window."
   ]
  },
  {
   "cell_type": "code",
   "execution_count": 1,
   "metadata": {
    "collapsed": true
   },
   "outputs": [],
   "source": [
    "import numpy as np\n",
    "import matplotlib.pyplot as plt\n",
    "import pandas as pd\n",
    "%matplotlib inline"
   ]
  },
  {
   "cell_type": "code",
   "execution_count": 9,
   "metadata": {},
   "outputs": [
    {
     "data": {
      "text/html": [
       "<div>\n",
       "<style>\n",
       "    .dataframe thead tr:only-child th {\n",
       "        text-align: right;\n",
       "    }\n",
       "\n",
       "    .dataframe thead th {\n",
       "        text-align: left;\n",
       "    }\n",
       "\n",
       "    .dataframe tbody tr th {\n",
       "        vertical-align: top;\n",
       "    }\n",
       "</style>\n",
       "<table border=\"1\" class=\"dataframe\">\n",
       "  <thead>\n",
       "    <tr style=\"text-align: right;\">\n",
       "      <th></th>\n",
       "      <th>Position (mm)</th>\n",
       "      <th>Uncertainty in Posistion (mm)</th>\n",
       "      <th>Magnetic Field (mT)</th>\n",
       "      <th>Uncertainty in Magnetic Field (mT)</th>\n",
       "      <th>Unnamed: 4</th>\n",
       "      <th>Z Position (m)</th>\n",
       "      <th>Uncertainty in z position (m)</th>\n",
       "      <th>Magnetic Field (mT).1</th>\n",
       "      <th>Uncertainty in Magnetic Field (mT).1</th>\n",
       "    </tr>\n",
       "  </thead>\n",
       "  <tbody>\n",
       "    <tr>\n",
       "      <th>0</th>\n",
       "      <td>10.0</td>\n",
       "      <td>1.0</td>\n",
       "      <td>0.907</td>\n",
       "      <td>0.05</td>\n",
       "      <td>NaN</td>\n",
       "      <td>-0.30</td>\n",
       "      <td>0.001</td>\n",
       "      <td>-0.032</td>\n",
       "      <td>0.01</td>\n",
       "    </tr>\n",
       "    <tr>\n",
       "      <th>1</th>\n",
       "      <td>20.0</td>\n",
       "      <td>1.0</td>\n",
       "      <td>0.940</td>\n",
       "      <td>0.05</td>\n",
       "      <td>NaN</td>\n",
       "      <td>-0.25</td>\n",
       "      <td>0.001</td>\n",
       "      <td>-0.034</td>\n",
       "      <td>0.01</td>\n",
       "    </tr>\n",
       "    <tr>\n",
       "      <th>2</th>\n",
       "      <td>30.0</td>\n",
       "      <td>1.0</td>\n",
       "      <td>0.948</td>\n",
       "      <td>0.05</td>\n",
       "      <td>NaN</td>\n",
       "      <td>-0.20</td>\n",
       "      <td>0.001</td>\n",
       "      <td>-0.036</td>\n",
       "      <td>0.01</td>\n",
       "    </tr>\n",
       "    <tr>\n",
       "      <th>3</th>\n",
       "      <td>40.0</td>\n",
       "      <td>1.0</td>\n",
       "      <td>0.958</td>\n",
       "      <td>0.05</td>\n",
       "      <td>NaN</td>\n",
       "      <td>-0.15</td>\n",
       "      <td>0.001</td>\n",
       "      <td>-0.021</td>\n",
       "      <td>0.01</td>\n",
       "    </tr>\n",
       "    <tr>\n",
       "      <th>4</th>\n",
       "      <td>50.0</td>\n",
       "      <td>1.0</td>\n",
       "      <td>0.957</td>\n",
       "      <td>0.05</td>\n",
       "      <td>NaN</td>\n",
       "      <td>-0.10</td>\n",
       "      <td>0.001</td>\n",
       "      <td>0.035</td>\n",
       "      <td>0.01</td>\n",
       "    </tr>\n",
       "    <tr>\n",
       "      <th>5</th>\n",
       "      <td>NaN</td>\n",
       "      <td>NaN</td>\n",
       "      <td>NaN</td>\n",
       "      <td>NaN</td>\n",
       "      <td>NaN</td>\n",
       "      <td>-0.05</td>\n",
       "      <td>0.001</td>\n",
       "      <td>0.038</td>\n",
       "      <td>0.01</td>\n",
       "    </tr>\n",
       "    <tr>\n",
       "      <th>6</th>\n",
       "      <td>NaN</td>\n",
       "      <td>NaN</td>\n",
       "      <td>NaN</td>\n",
       "      <td>NaN</td>\n",
       "      <td>NaN</td>\n",
       "      <td>0.00</td>\n",
       "      <td>0.001</td>\n",
       "      <td>0.224</td>\n",
       "      <td>0.01</td>\n",
       "    </tr>\n",
       "    <tr>\n",
       "      <th>7</th>\n",
       "      <td>NaN</td>\n",
       "      <td>NaN</td>\n",
       "      <td>NaN</td>\n",
       "      <td>NaN</td>\n",
       "      <td>NaN</td>\n",
       "      <td>0.04</td>\n",
       "      <td>0.001</td>\n",
       "      <td>0.813</td>\n",
       "      <td>0.01</td>\n",
       "    </tr>\n",
       "    <tr>\n",
       "      <th>8</th>\n",
       "      <td>NaN</td>\n",
       "      <td>NaN</td>\n",
       "      <td>NaN</td>\n",
       "      <td>NaN</td>\n",
       "      <td>NaN</td>\n",
       "      <td>0.09</td>\n",
       "      <td>0.001</td>\n",
       "      <td>0.914</td>\n",
       "      <td>0.01</td>\n",
       "    </tr>\n",
       "    <tr>\n",
       "      <th>9</th>\n",
       "      <td>NaN</td>\n",
       "      <td>NaN</td>\n",
       "      <td>NaN</td>\n",
       "      <td>NaN</td>\n",
       "      <td>NaN</td>\n",
       "      <td>0.14</td>\n",
       "      <td>0.001</td>\n",
       "      <td>0.917</td>\n",
       "      <td>0.01</td>\n",
       "    </tr>\n",
       "    <tr>\n",
       "      <th>10</th>\n",
       "      <td>NaN</td>\n",
       "      <td>NaN</td>\n",
       "      <td>NaN</td>\n",
       "      <td>NaN</td>\n",
       "      <td>NaN</td>\n",
       "      <td>0.19</td>\n",
       "      <td>0.001</td>\n",
       "      <td>0.931</td>\n",
       "      <td>0.01</td>\n",
       "    </tr>\n",
       "    <tr>\n",
       "      <th>11</th>\n",
       "      <td>NaN</td>\n",
       "      <td>NaN</td>\n",
       "      <td>NaN</td>\n",
       "      <td>NaN</td>\n",
       "      <td>NaN</td>\n",
       "      <td>0.24</td>\n",
       "      <td>0.001</td>\n",
       "      <td>0.952</td>\n",
       "      <td>0.01</td>\n",
       "    </tr>\n",
       "    <tr>\n",
       "      <th>12</th>\n",
       "      <td>NaN</td>\n",
       "      <td>NaN</td>\n",
       "      <td>NaN</td>\n",
       "      <td>NaN</td>\n",
       "      <td>NaN</td>\n",
       "      <td>0.29</td>\n",
       "      <td>0.001</td>\n",
       "      <td>0.942</td>\n",
       "      <td>0.01</td>\n",
       "    </tr>\n",
       "    <tr>\n",
       "      <th>13</th>\n",
       "      <td>NaN</td>\n",
       "      <td>NaN</td>\n",
       "      <td>NaN</td>\n",
       "      <td>NaN</td>\n",
       "      <td>NaN</td>\n",
       "      <td>0.34</td>\n",
       "      <td>0.001</td>\n",
       "      <td>0.939</td>\n",
       "      <td>0.01</td>\n",
       "    </tr>\n",
       "    <tr>\n",
       "      <th>14</th>\n",
       "      <td>NaN</td>\n",
       "      <td>NaN</td>\n",
       "      <td>NaN</td>\n",
       "      <td>NaN</td>\n",
       "      <td>NaN</td>\n",
       "      <td>0.39</td>\n",
       "      <td>0.001</td>\n",
       "      <td>0.935</td>\n",
       "      <td>0.01</td>\n",
       "    </tr>\n",
       "  </tbody>\n",
       "</table>\n",
       "</div>"
      ],
      "text/plain": [
       "    Position (mm)  Uncertainty in Posistion (mm)  Magnetic Field (mT)  \\\n",
       "0            10.0                            1.0                0.907   \n",
       "1            20.0                            1.0                0.940   \n",
       "2            30.0                            1.0                0.948   \n",
       "3            40.0                            1.0                0.958   \n",
       "4            50.0                            1.0                0.957   \n",
       "5             NaN                            NaN                  NaN   \n",
       "6             NaN                            NaN                  NaN   \n",
       "7             NaN                            NaN                  NaN   \n",
       "8             NaN                            NaN                  NaN   \n",
       "9             NaN                            NaN                  NaN   \n",
       "10            NaN                            NaN                  NaN   \n",
       "11            NaN                            NaN                  NaN   \n",
       "12            NaN                            NaN                  NaN   \n",
       "13            NaN                            NaN                  NaN   \n",
       "14            NaN                            NaN                  NaN   \n",
       "\n",
       "    Uncertainty in Magnetic Field (mT)  Unnamed: 4  Z Position (m)  \\\n",
       "0                                 0.05         NaN           -0.30   \n",
       "1                                 0.05         NaN           -0.25   \n",
       "2                                 0.05         NaN           -0.20   \n",
       "3                                 0.05         NaN           -0.15   \n",
       "4                                 0.05         NaN           -0.10   \n",
       "5                                  NaN         NaN           -0.05   \n",
       "6                                  NaN         NaN            0.00   \n",
       "7                                  NaN         NaN            0.04   \n",
       "8                                  NaN         NaN            0.09   \n",
       "9                                  NaN         NaN            0.14   \n",
       "10                                 NaN         NaN            0.19   \n",
       "11                                 NaN         NaN            0.24   \n",
       "12                                 NaN         NaN            0.29   \n",
       "13                                 NaN         NaN            0.34   \n",
       "14                                 NaN         NaN            0.39   \n",
       "\n",
       "    Uncertainty in z position (m)  Magnetic Field (mT).1  \\\n",
       "0                           0.001                 -0.032   \n",
       "1                           0.001                 -0.034   \n",
       "2                           0.001                 -0.036   \n",
       "3                           0.001                 -0.021   \n",
       "4                           0.001                  0.035   \n",
       "5                           0.001                  0.038   \n",
       "6                           0.001                  0.224   \n",
       "7                           0.001                  0.813   \n",
       "8                           0.001                  0.914   \n",
       "9                           0.001                  0.917   \n",
       "10                          0.001                  0.931   \n",
       "11                          0.001                  0.952   \n",
       "12                          0.001                  0.942   \n",
       "13                          0.001                  0.939   \n",
       "14                          0.001                  0.935   \n",
       "\n",
       "    Uncertainty in Magnetic Field (mT).1  \n",
       "0                                   0.01  \n",
       "1                                   0.01  \n",
       "2                                   0.01  \n",
       "3                                   0.01  \n",
       "4                                   0.01  \n",
       "5                                   0.01  \n",
       "6                                   0.01  \n",
       "7                                   0.01  \n",
       "8                                   0.01  \n",
       "9                                   0.01  \n",
       "10                                  0.01  \n",
       "11                                  0.01  \n",
       "12                                  0.01  \n",
       "13                                  0.01  \n",
       "14                                  0.01  "
      ]
     },
     "execution_count": 9,
     "metadata": {},
     "output_type": "execute_result"
    }
   ],
   "source": [
    "import pandas as pd\n",
    "Exp_data=pd.read_csv('SomethingToDoWithMagnets.csv')\n",
    "Exp_data\n",
    "# print(Exp_data[\"Position (mm)\"])"
   ]
  },
  {
   "cell_type": "markdown",
   "metadata": {},
   "source": [
    "## Comparing the B field through the cross section of the solenoid."
   ]
  },
  {
   "cell_type": "markdown",
   "metadata": {},
   "source": [
    "Step 2. Load your theoretical value of the B field through the cross section of the solenoid, that you wrote to \".csv\" file."
   ]
  },
  {
   "cell_type": "code",
   "execution_count": 3,
   "metadata": {},
   "outputs": [
    {
     "data": {
      "text/plain": [
       "array(1.0166648)"
      ]
     },
     "execution_count": 3,
     "metadata": {},
     "output_type": "execute_result"
    }
   ],
   "source": [
    "#Set the appropriate filename\n",
    "theoryB=np.loadtxt(\"Solinoid.csv\",delimiter=',')\n",
    "theoryB"
   ]
  },
  {
   "cell_type": "markdown",
   "metadata": {},
   "source": [
    "Step 3. Enter your experimental data for the B field through the cross section of the solenoid, that you recorded in Table 1. Make four 1-d arrays for each of the four variables;\n",
    "position (mm), uncertainty in position (mm), B field strength (mT), and uncertainty in B field strength (mT)."
   ]
  },
  {
   "cell_type": "code",
   "execution_count": 4,
   "metadata": {},
   "outputs": [],
   "source": [
    "#position (mm)\n",
    "pos=np.array(Exp_data[\"Position (mm)\"])\n",
    "#uncertainty in position (mm)\n",
    "delta_pos=np.array(Exp_data[\"Uncertainty in Posistion (mm)\"])\n",
    "#B field strength in mT\n",
    "Bfield=np.array(Exp_data[\"Magnetic Field (mT)\"])\n",
    "#uncertainty in B field strength in mT\n",
    "delta_Bfield=np.array(Exp_data[\"Uncertainty in Magnetic Field (mT)\"])/10"
   ]
  },
  {
   "cell_type": "markdown",
   "metadata": {},
   "source": [
    "Step 4. Now plot the theoretical and experimental data on the same axes, adding all the necessary labels and saving the figure as a pdf file you can later print."
   ]
  },
  {
   "cell_type": "code",
   "execution_count": 5,
   "metadata": {},
   "outputs": [
    {
     "name": "stdout",
     "output_type": "stream",
     "text": [
      "[10. 50.]\n",
      "[1.0166648 1.0166648]\n"
     ]
    },
    {
     "data": {
      "image/png": "[encoded data removed]",
      "text/plain": [
       "<matplotlib.figure.Figure at 0x220112abfd0>"
      ]
     },
     "metadata": {},
     "output_type": "display_data"
    }
   ],
   "source": [
    "#First plot the experimental B strength as a function of position, showing uncertainty with error bars and add a label\n",
    "plt.errorbar(pos, Bfield, yerr=delta_Bfield, xerr=delta_pos, ecolor='g', label = 'Experimental')\n",
    "#Plotting straight line representing the theoretical B field inside the solenoid\n",
    "positionArray=np.array([min(pos),max(pos)])\n",
    "print(positionArray)\n",
    "theoryBArray=np.array([theoryB,theoryB])\n",
    "print(theoryBArray)\n",
    "plt.plot(positionArray,theoryBArray,':',c='r',label='theory')\n",
    "#Label axes\n",
    "plt.xlabel('Distance from Solinoid edge (mm)')\n",
    "plt.ylabel('Magnetic field at position (mT)')\n",
    "#Add title to plot\n",
    "plt.title('Magnetic Field at Distance from Solinoid edge, Comparison of experiment and theory.')\n",
    "#Add legend\n",
    "plt.legend(loc='right', frameon=True)\n",
    "#Adjust the output filename to a descriptive value\n",
    "plt.savefig(\"Solinoid_exp_1.pdf\",dpi=300,orientation=\"landscape\")"
   ]
  },
  {
   "cell_type": "markdown",
   "metadata": {},
   "source": [
    "## Comparing the B field along the z axis of the solenoid."
   ]
  },
  {
   "cell_type": "markdown",
   "metadata": {},
   "source": [
    "Step 5. Now load in your theoretical B field data for along the z-axis of the solenoid. You'll need to put in the correct \".csv\" filename. The file should contain two columns of data corresponding to the z-axis values (mm) and the B field strength in (mT)."
   ]
  },
  {
   "cell_type": "code",
   "execution_count": 6,
   "metadata": {},
   "outputs": [],
   "source": [
    "#Enter the correct .csv filename (refer to MagneticFields_Theory-SV.ipynb if you are unsure of the filename you wrote it to.)\n",
    "theoryData=np.loadtxt(\"Solinoid_2.csv\",delimiter=',')\n",
    "#Extracting z position and B field strength data separately\n",
    "theoryZ=-theoryData[:,0]\n",
    "theoryBz=theoryData[:,1]\n"
   ]
  },
  {
   "cell_type": "markdown",
   "metadata": {},
   "source": [
    "Step 6. Enter your experimental measurements along the z-axis of the solenoid from Table 2, making a 1-d array for four variables; z position, uncertainty in z, B field strength, uncertainty in B. Each array should have the same number of entries as each other."
   ]
  },
  {
   "cell_type": "code",
   "execution_count": 7,
   "metadata": {},
   "outputs": [],
   "source": [
    "#enter z position in mm\n",
    "zPos=np.array(Exp_data[\"Z Position (m)\"])*1000\n",
    "#Enter uncertainty in z position in mm\n",
    "delta_zPos=np.array(Exp_data[\"Uncertainty in z position (m)\"])*1000\n",
    "#Enter B field strength measurements in mT\n",
    "Bfield=np.array(Exp_data[\"Magnetic Field (mT).1\"])\n",
    "#Enter uncertainty in B field strength in mT\n",
    "delta_Bfield=np.array(Exp_data[\"Uncertainty in Magnetic Field (mT).1\"])"
   ]
  },
  {
   "cell_type": "markdown",
   "metadata": {},
   "source": [
    "Step 6. Now plot experimental and theoretical results on the same axes, adding all the necessary labels and saving the figure as a pdf file you can later print."
   ]
  },
  {
   "cell_type": "code",
   "execution_count": 8,
   "metadata": {},
   "outputs": [
    {
     "data": {
      "image/png": "[encoded data removed]",
      "text/plain": [
       "<matplotlib.figure.Figure at 0x2201188d0f0>"
      ]
     },
     "metadata": {},
     "output_type": "display_data"
    }
   ],
   "source": [
    "#First plot the experimental B field strength as a function of z position, and use error bars to show uncertainty\n",
    "#add a label too.\n",
    "plt.errorbar(zPos, Bfield, yerr=delta_Bfield, xerr=delta_zPos, ecolor='g', label = \"Experimental\")\n",
    "#Plot theoretical predictions with a line and label too.\n",
    "plt.plot(theoryZ,theoryBz,':',c='r',label='theory')\n",
    "#Label axes\n",
    "plt.xlabel('Distance from Solinoid end (mm)')\n",
    "plt.ylabel('Magnetic field at position (mT)')\n",
    "#Add title to plot\n",
    "plt.title('Magnetic Field at Distance from Solinoid end, Comparison of experiment and theory.')\n",
    "#Add legend\n",
    "plt.legend(loc='lower right', frameon=True)\n",
    "#Adjust the output filename to a descriptive value\n",
    "plt.savefig(\"Solinoid_exp_2.pdf\",dpi=300,orientation=\"landscape\")"
   ]
  },
  {
   "cell_type": "code",
   "execution_count": null,
   "metadata": {
    "collapsed": true
   },
   "outputs": [],
   "source": []
  }
 ],
 "metadata": {
  "kernelspec": {
   "display_name": "Python 3",
   "language": "python",
   "name": "python3"
  },
  "language_info": {
   "codemirror_mode": {
    "name": "ipython",
    "version": 3
   },
   "file_extension": ".py",
   "mimetype": "text/x-python",
   "name": "python",
   "nbconvert_exporter": "python",
   "pygments_lexer": "ipython3",
   "version": "3.6.3"
  }
 },
 "nbformat": 4,
 "nbformat_minor": 2
}
